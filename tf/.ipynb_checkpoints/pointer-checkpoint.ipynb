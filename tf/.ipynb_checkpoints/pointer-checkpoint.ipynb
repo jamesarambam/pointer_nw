{
 "cells": [
  {
   "cell_type": "code",
   "execution_count": null,
   "metadata": {},
   "outputs": [],
   "source": [
    "import sys\n",
    "import os\n",
    "import platform\n",
    "from pprint import pprint\n",
    "import time\n",
    "import dataset\n",
    "from dataset import DataGenerator\n",
    "import tensorflow as tf\n",
    "from pointer import pointer_decoder\n",
    "import numpy as np\n",
    "o = platform.system()\n",
    "if o == \"Linux\":\n",
    "    d = platform.dist()\n",
    "    if d[0] == \"debian\":\n",
    "        sys.path.append(\"/home/james/Codes/python\")\n",
    "    if d[0] == \"centos\":\n",
    "        sys.path.append(\"/home/arambamjs.2016/Codes/python\")\n",
    "if o == \"Darwin\":\n",
    "    sys.path.append(\"/Users/james/Codes/python\")\n",
    "import auxlib.auxLib as ax\n"
   ]
  },
  {
   "cell_type": "code",
   "execution_count": null,
   "metadata": {
    "collapsed": true
   },
   "outputs": [],
   "source": [
    "# ------------------- Variables ------------------ #\n",
    "NUM_BATCHES = 3\n",
    "BATCH_SIZE = 2\n",
    "MAX_STEP = 5  # Number of numbers to sort. Maximum Input Sequence Length\n",
    "RNN_SIZE = 2  \n",
    "INPUT_SIZE = 1 # Size of Input data\n",
    "LEARNING_RATE = 1e-2\n",
    "encoder_inputs = []\n",
    "decoder_inputs = []\n",
    "decoder_targets = []\n",
    "target_weights = []\n",
    "# ------------------ Data ----------------- #\n",
    "dataset = DataGenerator()\n",
    "for i in range(MAX_STEP):\n",
    "    encoder_inputs.append(tf.placeholder( tf.float32, [BATCH_SIZE, INPUT_SIZE], name=\"EncoderInput%d\" % i))\n",
    "for i in range(MAX_STEP + 1):\n",
    "    decoder_inputs.append(tf.placeholder(tf.float32, [BATCH_SIZE, INPUT_SIZE], name=\"DecoderInput%d\" % i))\n",
    "    decoder_targets.append(tf.placeholder( tf.float32, [BATCH_SIZE, MAX_STEP + 1], name=\"DecoderTarget%d\" % i))  # one hot\n",
    "    target_weights.append(tf.placeholder(tf.float32, [BATCH_SIZE, 1], name=\"TargetWeight%d\" % i))\n",
    "# ------------ Batches --------- #    \n",
    "data = []\n",
    "for i in range(NUM_BATCHES):\n",
    "    encoder_input_data, decoder_input_data, targets_data = dataset.next_batch(BATCH_SIZE, MAX_STEP)\n",
    "    data.append([encoder_input_data, decoder_input_data, targets_data])    "
   ]
  },
  {
   "cell_type": "code",
   "execution_count": null,
   "metadata": {},
   "outputs": [],
   "source": [
    "# --------------- Cell ---------------- #\n",
    "cell = tf.contrib.rnn.GRUCell(RNN_SIZE)\n",
    "# ------- Encoder RNN ------------ #\n",
    "encoder_outputs, final_state = tf.contrib.rnn.static_rnn(cell, encoder_inputs, dtype=tf.float32)\n",
    "# Need a dummy output to point on it. End of decoding.\n",
    "encoder_outputs = [tf.zeros([BATCH_SIZE, RNN_SIZE])] + encoder_outputs\n"
   ]
  },
  {
   "cell_type": "code",
   "execution_count": null,
   "metadata": {
    "collapsed": true
   },
   "outputs": [],
   "source": []
  },
  {
   "cell_type": "code",
   "execution_count": null,
   "metadata": {},
   "outputs": [],
   "source": [
    "with tf.Session() as sess:\n",
    "    merged = tf.summary.merge_all()\n",
    "    ax.clearDir(\"./logs\")\n",
    "    writer = tf.summary.FileWriter(\"./logs/\", sess.graph)\n",
    "    init = tf.global_variables_initializer()\n",
    "    sess.run(init)\n",
    "    for encoder_input_data, decoder_input_data, targets_data in data:\n",
    "        print \"------------\"\n",
    "        feed_dict = {}\n",
    "        for placeholder, data in zip(encoder_inputs, encoder_input_data):\n",
    "            feed_dict[placeholder] = data\n",
    "        en = sess.run([encode], feed_dict=feed_dict)\n",
    "        print en[0],\"#\", en[1]"
   ]
  },
  {
   "cell_type": "code",
   "execution_count": null,
   "metadata": {
    "collapsed": true
   },
   "outputs": [],
   "source": []
  }
 ],
 "metadata": {
  "kernelspec": {
   "display_name": "Python 2",
   "language": "python",
   "name": "python2"
  },
  "language_info": {
   "codemirror_mode": {
    "name": "ipython",
    "version": 2
   },
   "file_extension": ".py",
   "mimetype": "text/x-python",
   "name": "python",
   "nbconvert_exporter": "python",
   "pygments_lexer": "ipython2",
   "version": "2.7.12"
  }
 },
 "nbformat": 4,
 "nbformat_minor": 1
}
