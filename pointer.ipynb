{
 "cells": [
  {
   "cell_type": "code",
   "execution_count": 1,
   "metadata": {},
   "outputs": [
    {
     "name": "stderr",
     "output_type": "stream",
     "text": [
      "Using TensorFlow backend.\n"
     ]
    }
   ],
   "source": [
    "from keras.models import Model\n",
    "from keras.layers import LSTM, Input\n",
    "from keras.callbacks import LearningRateScheduler\n",
    "from keras.utils.np_utils import to_categorical\n",
    "from PointerLSTM import PointerLSTM\n",
    "import pickle\n",
    "import tsp_data as tsp\n",
    "import sort_data as sort\n",
    "import numpy as np"
   ]
  },
  {
   "cell_type": "code",
   "execution_count": 2,
   "metadata": {},
   "outputs": [],
   "source": [
    "seq_len = 5\n",
    "BATCH = 3\n",
    "hidden_size = 128\n",
    "nb_epochs =  10\n",
    "learning_rate = 0.3"
   ]
  },
  {
   "cell_type": "code",
   "execution_count": 3,
   "metadata": {},
   "outputs": [
    {
     "name": "stdout",
     "output_type": "stream",
     "text": [
      "preparing dataset... 0/3\n",
      "preparing dataset... 0/2\n"
     ]
    }
   ],
   "source": [
    "t = tsp.Tsp()\n",
    "X, Y = t.next_batch(BATCH, seq_len)\n",
    "x_test, y_test = t.next_batch(2)\n",
    "YY = []\n",
    "for y in Y:\n",
    "    YY.append(to_categorical(y))\n",
    "YY = np.asarray(YY)"
   ]
  },
  {
   "cell_type": "code",
   "execution_count": 4,
   "metadata": {
    "collapsed": true
   },
   "outputs": [],
   "source": [
    "main_input = Input(shape=(seq_len, 2), name='main_input')"
   ]
  },
  {
   "cell_type": "code",
   "execution_count": 5,
   "metadata": {},
   "outputs": [
    {
     "name": "stderr",
     "output_type": "stream",
     "text": [
      "/Users/james/anaconda/lib/python2.7/site-packages/ipykernel/__main__.py:1: UserWarning: Update your `LSTM` call to the Keras 2 API: `LSTM(units=128, return_sequences=True, name=\"encoder\")`\n",
      "  if __name__ == '__main__':\n"
     ]
    }
   ],
   "source": [
    "encoder = LSTM(output_dim = hidden_size, return_sequences = True, name=\"encoder\")(main_input)"
   ]
  },
  {
   "cell_type": "code",
   "execution_count": 6,
   "metadata": {},
   "outputs": [
    {
     "name": "stderr",
     "output_type": "stream",
     "text": [
      "PointerLSTM.py:12: UserWarning: Update your `PointerLSTM` call to the Keras 2 API: `PointerLSTM(units=128, name=\"decoder\")`\n",
      "  super(PointerLSTM, self).__init__(*args, **kwargs)\n"
     ]
    },
    {
     "name": "stdout",
     "output_type": "stream",
     "text": [
      "Tensor(\"encoder/transpose_1:0\", shape=(?, ?, 128), dtype=float32)\n"
     ]
    }
   ],
   "source": [
    "decoder = PointerLSTM(hidden_size, output_dim=hidden_size, name=\"decoder\")(encoder)"
   ]
  },
  {
   "cell_type": "code",
   "execution_count": 7,
   "metadata": {
    "collapsed": true
   },
   "outputs": [],
   "source": [
    "model = Model(inputs=main_input, outputs=decoder)"
   ]
  },
  {
   "cell_type": "code",
   "execution_count": 8,
   "metadata": {},
   "outputs": [
    {
     "name": "stdout",
     "output_type": "stream",
     "text": [
      "_________________________________________________________________\n",
      "Layer (type)                 Output Shape              Param #   \n",
      "=================================================================\n",
      "main_input (InputLayer)      (None, 5, 2)              0         \n",
      "_________________________________________________________________\n",
      "encoder (LSTM)               (None, 5, 128)            67072     \n",
      "_________________________________________________________________\n",
      "decoder (PointerLSTM)        (None, 5, 5)              131845    \n",
      "=================================================================\n",
      "Total params: 198,917\n",
      "Trainable params: 198,917\n",
      "Non-trainable params: 0\n",
      "_________________________________________________________________\n"
     ]
    }
   ],
   "source": [
    "model.summary()"
   ]
  },
  {
   "cell_type": "code",
   "execution_count": 10,
   "metadata": {
    "collapsed": true
   },
   "outputs": [],
   "source": [
    "model.compile(optimizer='adadelta',\n",
    "              loss='categorical_crossentropy',\n",
    "              metrics=['accuracy'])"
   ]
  },
  {
   "cell_type": "code",
   "execution_count": null,
   "metadata": {
    "collapsed": true
   },
   "outputs": [],
   "source": []
  }
 ],
 "metadata": {
  "kernelspec": {
   "display_name": "Python 2",
   "language": "python",
   "name": "python2"
  },
  "language_info": {
   "codemirror_mode": {
    "name": "ipython",
    "version": 2
   },
   "file_extension": ".py",
   "mimetype": "text/x-python",
   "name": "python",
   "nbconvert_exporter": "python",
   "pygments_lexer": "ipython2",
   "version": "2.7.12"
  }
 },
 "nbformat": 4,
 "nbformat_minor": 1
}
